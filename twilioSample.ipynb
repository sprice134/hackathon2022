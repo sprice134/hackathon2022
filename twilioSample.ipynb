{
 "cells": [
  {
   "cell_type": "markdown",
   "metadata": {},
   "source": [
    "# Twilio Sample"
   ]
  },
  {
   "cell_type": "markdown",
   "metadata": {},
   "source": [
    "#### Handling Imports"
   ]
  },
  {
   "cell_type": "code",
   "execution_count": 12,
   "metadata": {},
   "outputs": [],
   "source": [
    "from twilio.rest import Client"
   ]
  },
  {
   "cell_type": "markdown",
   "metadata": {},
   "source": [
    "#### Creating Text Function"
   ]
  },
  {
   "cell_type": "code",
   "execution_count": 13,
   "metadata": {},
   "outputs": [],
   "source": [
    "account_sid = 'ACc9a0b8e191c56b877a2fdbd764240edf'\n",
    "auth_token = '25656f4ce141a376cfd1466343e8a80f'\n",
    "stephen_num = '+14252312254'\n",
    "porto_num = '+16035609830'\n",
    "sending_number = \"+18305297727\"\n",
    "def sendText(sender, receiver, message):\n",
    "    #account_sid = os.environ['ACc9a0b8e191c56b877a2fdbd764240edf']\n",
    "    #auth_token = os.environ['25656f4ce141a376cfd1466343e8a80f']\n",
    "    client = Client(account_sid, auth_token)\n",
    "    message = client.messages \\\n",
    "                    .create(\n",
    "                        body=message,\n",
    "                        from_=sender,\n",
    "                        to=receiver\n",
    "                    )\n",
    "    print(message.sid)"
   ]
  },
  {
   "cell_type": "markdown",
   "metadata": {},
   "source": [
    "#### Sending Text Message"
   ]
  },
  {
   "cell_type": "code",
   "execution_count": 14,
   "metadata": {},
   "outputs": [
    {
     "name": "stdout",
     "output_type": "stream",
     "text": [
      "SMdc62a4800502411085742736f7d374b6\n"
     ]
    }
   ],
   "source": [
    "sendText(sending_number, stephen_num, \"Your plant was watered\")"
   ]
  }
 ],
 "metadata": {
  "interpreter": {
   "hash": "af1d514201f653fb50363266ea71fc76cd958ff26bdf77c1b3bc2254b0587c73"
  },
  "kernelspec": {
   "display_name": "Python 3.9.8 64-bit (windows store)",
   "language": "python",
   "name": "python3"
  },
  "language_info": {
   "codemirror_mode": {
    "name": "ipython",
    "version": 3
   },
   "file_extension": ".py",
   "mimetype": "text/x-python",
   "name": "python",
   "nbconvert_exporter": "python",
   "pygments_lexer": "ipython3",
   "version": "3.9.7"
  },
  "orig_nbformat": 4
 },
 "nbformat": 4,
 "nbformat_minor": 2
}
