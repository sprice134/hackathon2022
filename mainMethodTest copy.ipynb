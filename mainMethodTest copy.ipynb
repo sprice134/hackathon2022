{
 "cells": [
  {
   "cell_type": "markdown",
   "metadata": {},
   "source": [
    "# Main Function Test"
   ]
  },
  {
   "cell_type": "markdown",
   "metadata": {},
   "source": [
    "#### Fake Data Method"
   ]
  },
  {
   "cell_type": "code",
   "execution_count": 1,
   "metadata": {},
   "outputs": [],
   "source": [
    "import random\n",
    "import time\n",
    "def getVoltage():\n",
    "    return random.randint(0, 100)/100\n"
   ]
  },
  {
   "cell_type": "markdown",
   "metadata": {},
   "source": [
    "#### Handling Imports"
   ]
  },
  {
   "cell_type": "code",
   "execution_count": 4,
   "metadata": {},
   "outputs": [
    {
     "name": "stdout",
     "output_type": "stream",
     "text": [
      "Plant doesn't need water at this time\n",
      "Plant doesn't need water at this time\n",
      "The plant has been overwatered, avoid watering for a bit\n",
      "Plant doesn't need water at this time\n",
      "Plant doesn't need water at this time\n",
      "The plant has been overwatered, avoid watering for a bit\n",
      "Plant doesn't need water at this time\n",
      "Plant doesn't need water at this time\n",
      "The plant has been overwatered, avoid watering for a bit\n",
      "The plant is dry, it needs water\n",
      "The plant is dry, it needs water\n",
      "Plant doesn't need water at this time\n",
      "Plant doesn't need water at this time\n",
      "Plant doesn't need water at this time\n",
      "The plant is dry, it needs water\n",
      "Plant doesn't need water at this time\n",
      "Plant doesn't need water at this time\n",
      "Plant doesn't need water at this time\n",
      "The plant has been overwatered, avoid watering for a bit\n",
      "The plant is dry, it needs water\n"
     ]
    },
    {
     "ename": "KeyboardInterrupt",
     "evalue": "",
     "output_type": "error",
     "traceback": [
      "\u001b[0;31m---------------------------------------------------------------------------\u001b[0m",
      "\u001b[0;31mKeyboardInterrupt\u001b[0m                         Traceback (most recent call last)",
      "\u001b[0;32m/var/folders/d6/w5lhymqx5t54lp1mlcl9tvqc0000gn/T/ipykernel_80645/2492820224.py\u001b[0m in \u001b[0;36m<module>\u001b[0;34m\u001b[0m\n\u001b[1;32m     10\u001b[0m     \u001b[0;32melse\u001b[0m\u001b[0;34m:\u001b[0m\u001b[0;34m\u001b[0m\u001b[0;34m\u001b[0m\u001b[0m\n\u001b[1;32m     11\u001b[0m         \u001b[0mprint\u001b[0m\u001b[0;34m(\u001b[0m\u001b[0;34m\"Plant doesn't need water at this time\"\u001b[0m\u001b[0;34m)\u001b[0m\u001b[0;34m\u001b[0m\u001b[0;34m\u001b[0m\u001b[0m\n\u001b[0;32m---> 12\u001b[0;31m     \u001b[0mtime\u001b[0m\u001b[0;34m.\u001b[0m\u001b[0msleep\u001b[0m\u001b[0;34m(\u001b[0m\u001b[0;36m1\u001b[0m\u001b[0;34m)\u001b[0m\u001b[0;34m\u001b[0m\u001b[0;34m\u001b[0m\u001b[0m\n\u001b[0m\u001b[1;32m     13\u001b[0m \u001b[0;34m\u001b[0m\u001b[0m\n",
      "\u001b[0;31mKeyboardInterrupt\u001b[0m: "
     ]
    }
   ],
   "source": [
    "fakeText = True\n",
    "cont = True\n",
    "lowerThresh = 0.2\n",
    "upperThresh = 0.8\n",
    "while cont:\n",
    "    v = getVoltage()\n",
    "    if v < lowerThresh:\n",
    "        print(\"The plant is dry, it needs water\")\n",
    "    elif v > upperThresh:\n",
    "        print(\"The plant has been overwatered, avoid watering for a bit\")\n",
    "    else:\n",
    "        print(\"Plant doesn't need water at this time\")\n",
    "\n",
    "    time.sleep(1)\n",
    "\n"
   ]
  }
 ],
 "metadata": {
  "interpreter": {
   "hash": "af1d514201f653fb50363266ea71fc76cd958ff26bdf77c1b3bc2254b0587c73"
  },
  "kernelspec": {
   "display_name": "Python 3.9.8 64-bit (windows store)",
   "language": "python",
   "name": "python3"
  },
  "language_info": {
   "codemirror_mode": {
    "name": "ipython",
    "version": 3
   },
   "file_extension": ".py",
   "mimetype": "text/x-python",
   "name": "python",
   "nbconvert_exporter": "python",
   "pygments_lexer": "ipython3",
   "version": "3.9.7"
  },
  "orig_nbformat": 4
 },
 "nbformat": 4,
 "nbformat_minor": 2
}
