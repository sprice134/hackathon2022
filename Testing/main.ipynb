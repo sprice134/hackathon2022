{
 "cells": [
  {
   "cell_type": "markdown",
   "metadata": {},
   "source": [
    "# Main Function Test"
   ]
  },
  {
   "cell_type": "markdown",
   "metadata": {},
   "source": [
    "#### Fake Data Method"
   ]
  },
  {
   "cell_type": "code",
   "execution_count": 15,
   "metadata": {},
   "outputs": [],
   "source": [
    "import random\n",
    "import time\n",
    "from twilio.rest import Client\n",
    "\n",
    "account_sid = 'ACc9a0b8e191c56b877a2fdbd764240edf'\n",
    "auth_token = '25656f4ce141a376cfd1466343e8a80f'\n",
    "stephen_num = '+14252312254'\n",
    "porto_num = '+16035609830'\n",
    "sending_number = \"+18305297727\"\n",
    "cont = True\n",
    "fakeText = True\n",
    "lowerThresh = 0.2\n",
    "upperThresh = 0.8"
   ]
  },
  {
   "cell_type": "code",
   "execution_count": 16,
   "metadata": {},
   "outputs": [],
   "source": [
    "def getVoltage():\n",
    "    return random.randint(0, 100)/100\n",
    "\n",
    "def sendText(sender, receiver, message):\n",
    "    #account_sid = os.environ['ACc9a0b8e191c56b877a2fdbd764240edf']\n",
    "    #auth_token = os.environ['25656f4ce141a376cfd1466343e8a80f']\n",
    "    client = Client(account_sid, auth_token)\n",
    "    message = client.messages \\\n",
    "                    .create(\n",
    "                        body=message,\n",
    "                        from_=sender,\n",
    "                        to=receiver\n",
    "                    )\n",
    "    print(message.sid)"
   ]
  },
  {
   "cell_type": "markdown",
   "metadata": {},
   "source": [
    "#### Handling Imports"
   ]
  },
  {
   "cell_type": "code",
   "execution_count": 17,
   "metadata": {},
   "outputs": [
    {
     "name": "stdout",
     "output_type": "stream",
     "text": [
      "Plant doesn't need water at this time\n",
      "Plant doesn't need water at this time\n",
      "Using Fake Texts:\n",
      "The plant is dry, it needs water\n",
      "Previous watering: \n",
      "------------------------------\n",
      "Plant doesn't need water at this time\n",
      "Using Fake Texts:\n",
      "The plant is dry, it needs water\n",
      "Previous watering: Sat Jan 15 13:01:28 2022\n",
      "------------------------------\n",
      "Plant doesn't need water at this time\n",
      "Plant doesn't need water at this time\n",
      "Using Fake Texts:\n",
      "The plant has been overwatered, avoid watering for a bit\n",
      "Previous watering: Sat Jan 15 13:01:30 2022\n",
      "------------------------------\n",
      "Using Fake Texts:\n",
      "The plant has been overwatered, avoid watering for a bit\n",
      "Previous watering: Sat Jan 15 13:01:30 2022\n",
      "------------------------------\n"
     ]
    },
    {
     "ename": "KeyboardInterrupt",
     "evalue": "",
     "output_type": "error",
     "traceback": [
      "\u001b[0;31m---------------------------------------------------------------------------\u001b[0m",
      "\u001b[0;31mKeyboardInterrupt\u001b[0m                         Traceback (most recent call last)",
      "\u001b[0;32m/var/folders/d6/w5lhymqx5t54lp1mlcl9tvqc0000gn/T/ipykernel_80755/906700826.py\u001b[0m in \u001b[0;36m<module>\u001b[0;34m\u001b[0m\n\u001b[1;32m     22\u001b[0m     \u001b[0;32melse\u001b[0m\u001b[0;34m:\u001b[0m\u001b[0;34m\u001b[0m\u001b[0;34m\u001b[0m\u001b[0m\n\u001b[1;32m     23\u001b[0m         \u001b[0mprint\u001b[0m\u001b[0;34m(\u001b[0m\u001b[0;34m\"Plant doesn't need water at this time\"\u001b[0m\u001b[0;34m)\u001b[0m\u001b[0;34m\u001b[0m\u001b[0;34m\u001b[0m\u001b[0m\n\u001b[0;32m---> 24\u001b[0;31m     \u001b[0mtime\u001b[0m\u001b[0;34m.\u001b[0m\u001b[0msleep\u001b[0m\u001b[0;34m(\u001b[0m\u001b[0;36m1\u001b[0m\u001b[0;34m)\u001b[0m\u001b[0;34m\u001b[0m\u001b[0;34m\u001b[0m\u001b[0m\n\u001b[0m\u001b[1;32m     25\u001b[0m \u001b[0;34m\u001b[0m\u001b[0m\n",
      "\u001b[0;31mKeyboardInterrupt\u001b[0m: "
     ]
    }
   ],
   "source": [
    "last_water = \"\"\n",
    "while cont:\n",
    "    v = getVoltage()\n",
    "    if v < lowerThresh:\n",
    "        if fakeText: \n",
    "            print(\"Using Fake Texts:\")\n",
    "            print(\"The plant is dry, it needs water\")\n",
    "            print(\"Previous watering: \" + str(last_water))\n",
    "            last_water = str(time.ctime(int(time.time())))\n",
    "            print('-'*30)\n",
    "        else:\n",
    "            sendText(sending_number, stephen_num, \"The plant is dry, it has been watered\")\n",
    "    else:\n",
    "        print(\"Plant doesn't need water at this time\")\n",
    "    time.sleep(1)\n",
    "\n"
   ]
  }
 ],
 "metadata": {
  "interpreter": {
   "hash": "af1d514201f653fb50363266ea71fc76cd958ff26bdf77c1b3bc2254b0587c73"
  },
  "kernelspec": {
   "display_name": "Python 3.9.8 64-bit (windows store)",
   "language": "python",
   "name": "python3"
  },
  "language_info": {
   "codemirror_mode": {
    "name": "ipython",
    "version": 3
   },
   "file_extension": ".py",
   "mimetype": "text/x-python",
   "name": "python",
   "nbconvert_exporter": "python",
   "pygments_lexer": "ipython3",
   "version": "3.9.7"
  },
  "orig_nbformat": 4
 },
 "nbformat": 4,
 "nbformat_minor": 2
}
